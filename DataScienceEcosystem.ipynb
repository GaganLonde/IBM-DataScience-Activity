{
 "cells": [
  {
   "cell_type": "markdown",
   "id": "720c15cb-307d-4d11-9a85-b4527360f0dc",
   "metadata": {},
   "source": [
    "# Data Science Tools and Ecosystem"
   ]
  },
  {
   "cell_type": "markdown",
   "id": "c801c11a-34f7-4333-ac6b-8f2ef01cef60",
   "metadata": {},
   "source": [
    "In this notebook, Data Science Tools and Ecosystem are summarized."
   ]
  },
  {
   "cell_type": "markdown",
   "id": "7c4b73a4-4c72-4755-ac3c-a53640ba7bf6",
   "metadata": {},
   "source": [
    "<b>Objectives:</b>\n",
    "<ul>\n",
    "    <li>List popular languages for Data Science.</li>\n",
    "    <li>Identify commonly used libraries in Data Science.</li>\n",
    "    <li>Explore open-source development environments for Data Science.</li>\n",
    "    <li>Perform basic arithmetic operations in Python.</li>\n",
    "    <li>Convert units using Python expressions.</li>\n",
    "</ul>\n"
   ]
  },
  {
   "cell_type": "markdown",
   "id": "20428635-884f-4d98-b8db-b417b0a0fa8e",
   "metadata": {},
   "source": [
    "Some of the popular languages that Data Scientists use are:"
   ]
  },
  {
   "cell_type": "markdown",
   "id": "30d3c014-7781-4fea-83bf-f95e573316f1",
   "metadata": {},
   "source": [
    "<ol>\n",
    "  <li>Python.</li>\n",
    "  <li>R programming.</li>\n",
    "  <li>C++.</li>\n",
    "</ol>"
   ]
  },
  {
   "cell_type": "markdown",
   "id": "c9d648c1-fa8d-41db-80e4-c0a317ddb7e2",
   "metadata": {},
   "source": [
    "Some of the commonly used libraries used by Data Scientists include:\n",
    "<ol>\n",
    "  <li>NumPy.</li>\n",
    "  <li>Pandas.</li>\n",
    "  <li>Matplotlib.</li>\n",
    "  <li>Scikit-learn.</li>\n",
    "</ol>"
   ]
  },
  {
   "cell_type": "markdown",
   "id": "26eebe2b-fd07-4529-a19e-875bab1300ab",
   "metadata": {},
   "source": [
    "| Data Science Tools  |\n",
    "|---------------------|\n",
    "| Jupyter Notebook   |\n",
    "| RStudio           |\n",
    "| Apache Zeppelin   |\n"
   ]
  },
  {
   "cell_type": "markdown",
   "id": "11666676-d996-4bae-bdc3-a128573c3fad",
   "metadata": {},
   "source": [
    "<h3>Below are a few examples of evaluating arithmetic expressions in Python</h3>"
   ]
  },
  {
   "cell_type": "code",
   "execution_count": 12,
   "id": "2b61d247-93c7-40af-a0e7-0c888aba66c7",
   "metadata": {},
   "outputs": [
    {
     "name": "stdout",
     "output_type": "stream",
     "text": [
      "17\n"
     ]
    }
   ],
   "source": [
    "# This is a simple arithmetic expression to multiply then add integers\n",
    "result = (3 * 4) + 5\n",
    "print(result)\n"
   ]
  },
  {
   "cell_type": "code",
   "execution_count": 14,
   "id": "9e44ef85-9451-459a-baed-6ed1c56cd9c5",
   "metadata": {},
   "outputs": [
    {
     "name": "stdout",
     "output_type": "stream",
     "text": [
      "3.3333333333333335\n"
     ]
    }
   ],
   "source": [
    "# This will convert 200 minutes to hours by dividing by 60\n",
    "minutes = 200\n",
    "hours = minutes / 60\n",
    "print(hours)\n"
   ]
  },
  {
   "cell_type": "markdown",
   "id": "79a94738-869b-4670-8987-8dfbb3689c7f",
   "metadata": {},
   "source": [
    "## Author ##\n",
    "Gagan Londe"
   ]
  },
  {
   "cell_type": "code",
   "execution_count": null,
   "id": "79f61278-e3a7-48a4-872a-03e9bc520a57",
   "metadata": {},
   "outputs": [],
   "source": []
  }
 ],
 "metadata": {
  "kernelspec": {
   "display_name": "Python [conda env:base] *",
   "language": "python",
   "name": "conda-base-py"
  },
  "language_info": {
   "codemirror_mode": {
    "name": "ipython",
    "version": 3
   },
   "file_extension": ".py",
   "mimetype": "text/x-python",
   "name": "python",
   "nbconvert_exporter": "python",
   "pygments_lexer": "ipython3",
   "version": "3.12.7"
  }
 },
 "nbformat": 4,
 "nbformat_minor": 5
}
